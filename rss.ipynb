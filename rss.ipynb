{
  "nbformat": 4,
  "nbformat_minor": 0,
  "metadata": {
    "colab": {
      "provenance": []
    },
    "kernelspec": {
      "name": "python3",
      "display_name": "Python 3"
    },
    "language_info": {
      "name": "python"
    }
  },
  "cells": [
    {
      "cell_type": "code",
      "execution_count": 3,
      "metadata": {
        "colab": {
          "base_uri": "https://localhost:8080/"
        },
        "id": "RYfWhra2BQ58",
        "outputId": "bdd43667-dd0f-4792-b909-1f5fdf49901a"
      },
      "outputs": [
        {
          "output_type": "stream",
          "name": "stdout",
          "text": [
            "Requirement already satisfied: feedparser in /usr/local/lib/python3.10/dist-packages (6.0.10)\n",
            "Requirement already satisfied: sgmllib3k in /usr/local/lib/python3.10/dist-packages (from feedparser) (1.0.0)\n",
            "Fitch highlighted Jan. 6 insurrection with Treasury ahead of US downgrade\n",
            "Mongolia, US to sign ‘Open Skies’ deal ahead of talks\n",
            "China asks some banks to reduce or delay dollar buying to ease pressure on yuan\n",
            "Banks vote to limit accounting of emissions in bond and stock sales\n",
            "Argentina, IMF staff-level agreement set to combine reviews on $44 billion loan\n",
            "Sigma Lithium CEO says in talks with potential buyers\n",
            "India regulator seeks curbs to limit retail investors’ derivatives risk\n",
            "Analysis: Bank of Japan’s opaque policy shift means stronger, wilder yen\n",
            "BYD tells India partner it wants to drop $1 billion EV investment plan\n",
            "Santander plans to hire about 150 bankers to grow investment banking\n"
          ]
        }
      ],
      "source": [
        "! pip install feedparser"
      ]
    },
    {
      "cell_type": "code",
      "source": [
        "import feedparser\n",
        "\n",
        "#RSS_URL = 'https://www.reutersagency.com/feed/?taxonomy=best-sectors&post_type=best'\n",
        "#RSS_URL = 'http://feeds.bbci.co.uk/news/business/rss.xml'\n",
        "#RSS_URL = 'http://feeds.marketwatch.com/marketwatch/realtimeheadlines/'\n",
        "#RSS_URL = 'http://feeds.marketwatch.com/marketwatch/topstories/'\n",
        "RSS_URL = 'https://seekingalpha.com/market_currents.xml'\n",
        "RSS_URL = 'https://rss.nytimes.com/services/xml/rss/nyt/Business.xml'\n",
        "#RSS_URL = 'https://rss.nytimes.com/services/xml/rss/nyt/Dealbook.xml'\n",
        "RSS_URL = 'https://investing.com/rss/news.rss'\n",
        "RSS_URL = 'https://www.ft.com/rss/home/uk'\n",
        "#RSS_URL = 'https://finance.yahoo.com/news/rssindex'\n",
        "\n",
        "def fetch_rss_details(rss_url):\n",
        "    feed = feedparser.parse(rss_url)\n",
        "    details = []\n",
        "    for entry in feed.entries:\n",
        "        title = entry.title\n",
        "        link = entry.link\n",
        "        date = entry.published if 'published' in entry else 'N/A'\n",
        "        details.append((title, link, date))\n",
        "    return details\n",
        "\n",
        "if __name__ == \"__main__\":\n",
        "    details_list = fetch_rss_details(RSS_URL)\n",
        "    for title, link, date in details_list:\n",
        "        print(f\"Title: {title}\\nLink: {link}\\nDate: {date}\\n{'-'*40}\")"
      ],
      "metadata": {
        "colab": {
          "base_uri": "https://localhost:8080/"
        },
        "id": "BVGrrFH2CdLj",
        "outputId": "e1c1af41-69ac-447b-a40f-10ca649a1d47"
      },
      "execution_count": 35,
      "outputs": [
        {
          "output_type": "stream",
          "name": "stdout",
          "text": [
            "Title: Chinese exports suffer worst fall since start of pandemic\n",
            "Link: https://www.ft.com/content/6318c973-1ff7-44b6-9f4b-177e0706f1e2\n",
            "Date: Tue, 08 Aug 2023 05:38:18 GMT\n",
            "----------------------------------------\n",
            "Title: EU struggles to ‘de-risk’ trade with China\n",
            "Link: https://www.ft.com/content/47d121d0-00d5-4308-b68f-da29b99616a2\n",
            "Date: Tue, 08 Aug 2023 04:00:17 GMT\n",
            "----------------------------------------\n",
            "Title: Cross-border debt boom aids China’s efforts to widen renminbi use\n",
            "Link: https://www.ft.com/content/5063dc0b-f08f-4260-b86e-88b96ac30e9a\n",
            "Date: Tue, 08 Aug 2023 01:00:14 GMT\n",
            "----------------------------------------\n",
            "Title: The new commodity superpowers\n",
            "Link: https://www.ft.com/content/0d2fba79-940f-4a28-8f4f-68f1e755200f\n",
            "Date: Tue, 08 Aug 2023 04:00:17 GMT\n",
            "----------------------------------------\n",
            "Title: In praise of the ‘techies’ who make companies more productive\n",
            "Link: https://www.ft.com/content/f67a46b0-3eb3-4810-a768-d3162b323990\n",
            "Date: Tue, 08 Aug 2023 04:00:17 GMT\n",
            "----------------------------------------\n",
            "Title: Iger’s Disney comeback hampered by TV woes and box office flops\n",
            "Link: https://www.ft.com/content/4630ad12-6e4a-447f-9dce-ede3dc673f67\n",
            "Date: Tue, 08 Aug 2023 04:00:17 GMT\n",
            "----------------------------------------\n",
            "Title: July hottest month ever recorded\n",
            "Link: https://www.ft.com/content/dcee6fdc-859f-4641-9afd-55d41e325776\n",
            "Date: Tue, 08 Aug 2023 05:27:37 GMT\n",
            "----------------------------------------\n",
            "Title: European and Asian stocks fall on weak Chinese export data\n",
            "Link: https://www.ft.com/content/db294c43-a7a4-47b5-9b5d-341166702b20\n",
            "Date: Tue, 08 Aug 2023 08:29:03 GMT\n",
            "----------------------------------------\n",
            "Title: Italy hits banks with surprise windfall tax\n",
            "Link: https://www.ft.com/content/2cd7ca9c-eb98-444a-9bec-7341492f79fd\n",
            "Date: Tue, 08 Aug 2023 07:36:23 GMT\n",
            "----------------------------------------\n",
            "Title: Abrdn hit by larger than expected outflows in ‘challenging’ environment\n",
            "Link: https://www.ft.com/content/879f9be7-d365-4da8-9e46-09f692dc3dea\n",
            "Date: Tue, 08 Aug 2023 07:39:06 GMT\n",
            "----------------------------------------\n",
            "Title: SoftBank suffers third straight loss despite recovery in flagship fund unit\n",
            "Link: https://www.ft.com/content/7b53039c-c5ba-4b0f-81f2-da1a3c3bc2f1\n",
            "Date: Tue, 08 Aug 2023 08:22:09 GMT\n",
            "----------------------------------------\n",
            "Title: Soaring costs threaten offshore wind farm projects\n",
            "Link: https://www.ft.com/content/8b8aaa67-0c9c-47a6-949d-09bd79a5241d\n",
            "Date: Tue, 08 Aug 2023 04:00:17 GMT\n",
            "----------------------------------------\n",
            "Title: Pakistan election delay raises fears for democracy\n",
            "Link: https://www.ft.com/content/31614845-403f-4e54-a6ef-a45a6c0a3fdd\n",
            "Date: Tue, 08 Aug 2023 04:50:13 GMT\n",
            "----------------------------------------\n",
            "Title: Zoom calls employees back to office after riding work from home wave\n",
            "Link: https://www.ft.com/content/004ca123-e47d-4a22-8e16-d07792c785df\n",
            "Date: Mon, 07 Aug 2023 20:53:17 GMT\n",
            "----------------------------------------\n",
            "Title: Glencore profits halve as commodity prices retreat\n",
            "Link: https://www.ft.com/content/69aa01fe-98ef-4cd7-a77d-0ac38f4d89d0\n",
            "Date: Tue, 08 Aug 2023 08:05:00 GMT\n",
            "----------------------------------------\n",
            "Title: Tesla CFO and company veteran Zach Kirkhorn quits\n",
            "Link: https://www.ft.com/content/cdafab98-39bf-48f5-bf34-8d8b5d1db868\n",
            "Date: Mon, 07 Aug 2023 17:55:26 GMT\n",
            "----------------------------------------\n",
            "Title: S&P drops ESG scores from debt ratings amid scrutiny\n",
            "Link: https://www.ft.com/content/9426937e-28d3-4846-8440-c30583524d4c\n",
            "Date: Tue, 08 Aug 2023 04:00:17 GMT\n",
            "----------------------------------------\n",
            "Title: Morrisons owner CD&R eclipses $20bn target for flagship fund\n",
            "Link: https://www.ft.com/content/014e960d-a701-42b5-8b84-fcf207f7e944\n",
            "Date: Tue, 08 Aug 2023 04:00:17 GMT\n",
            "----------------------------------------\n",
            "Title: Meta disbands protein-folding team in shift towards commercial AI\n",
            "Link: https://www.ft.com/content/919c05d2-b894-4812-aa1a-dd2ab6de794a\n",
            "Date: Mon, 07 Aug 2023 20:00:14 GMT\n",
            "----------------------------------------\n",
            "Title: Antarctica’s ‘staggering’ exposure to climate change exacerbates global threat\n",
            "Link: https://www.ft.com/content/5e76a2ec-f610-4772-9df9-c68530c1429e\n",
            "Date: Tue, 08 Aug 2023 04:00:17 GMT\n",
            "----------------------------------------\n",
            "Title: Poland digs in to defy EU over lignite mine\n",
            "Link: https://www.ft.com/content/0850c177-4dce-4fa7-a00f-2020124aec98\n",
            "Date: Tue, 08 Aug 2023 04:00:17 GMT\n",
            "----------------------------------------\n",
            "Title: UK charity bank raises fresh debt after steep paper losses on bonds\n",
            "Link: https://www.ft.com/content/b0cf979c-4d12-43d2-95f6-6f9eaed04c34\n",
            "Date: Mon, 07 Aug 2023 18:07:10 GMT\n",
            "----------------------------------------\n",
            "Title: UK ministers accused of inaction over ‘buy now, pay later’ lenders\n",
            "Link: https://www.ft.com/content/a02caf8f-d167-4343-a42a-cc23a58c5037\n",
            "Date: Mon, 07 Aug 2023 21:49:35 GMT\n",
            "----------------------------------------\n",
            "Title: Varadkar says UK reluctant to co-operate on N Ireland political crisis\n",
            "Link: https://www.ft.com/content/73c414d2-ba4f-45aa-9823-afe6fa97e940\n",
            "Date: Tue, 08 Aug 2023 04:00:17 GMT\n",
            "----------------------------------------\n",
            "Title: Administrator for Greensill Bank sues insurer Zurich for $250mn\n",
            "Link: https://www.ft.com/content/544f0ed3-cdcf-4a7b-914e-2c30a7da012a\n",
            "Date: Tue, 08 Aug 2023 04:00:17 GMT\n",
            "----------------------------------------\n",
            "Title: India’s ‘shadow banks’ resurgent as consumer demand for credit rises\n",
            "Link: https://www.ft.com/content/4c02cd9f-4122-45b4-b08c-7ed76e056526\n",
            "Date: Tue, 08 Aug 2023 00:30:14 GMT\n",
            "----------------------------------------\n"
          ]
        }
      ]
    }
  ]
}